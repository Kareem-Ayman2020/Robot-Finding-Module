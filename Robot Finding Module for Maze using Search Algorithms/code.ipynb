{
 "cells": [
  {
   "cell_type": "code",
   "execution_count": 1,
   "metadata": {},
   "outputs": [
    {
     "name": "stdout",
     "output_type": "stream",
     "text": [
      "Requirement already satisfied: pyamaze in c:\\users\\hp\\anaconda3\\lib\\site-packages (1.0.1)\n"
     ]
    }
   ],
   "source": [
    "!pip install pyamaze"
   ]
  },
  {
   "cell_type": "code",
   "execution_count": 2,
   "metadata": {},
   "outputs": [],
   "source": [
    "from pyamaze import maze\n",
    "m=maze()\n",
    "m.CreateMaze()\n",
    "m.run()"
   ]
  },
  {
   "cell_type": "code",
   "execution_count": 3,
   "metadata": {},
   "outputs": [],
   "source": [
    "from pyamaze import maze\n",
    "m=maze(5,5)\n",
    "m.CreateMaze()\n",
    "m.run()"
   ]
  },
  {
   "cell_type": "code",
   "execution_count": 4,
   "metadata": {},
   "outputs": [],
   "source": [
    "m.CreateMaze(5,5,pattern=\"v\")\n"
   ]
  },
  {
   "cell_type": "code",
   "execution_count": 5,
   "metadata": {},
   "outputs": [],
   "source": [
    "m.CreateMaze(loopPercent=100)\n"
   ]
  },
  {
   "cell_type": "code",
   "execution_count": 6,
   "metadata": {},
   "outputs": [],
   "source": [
    "m.CreateMaze(theme=\"light\")\n"
   ]
  },
  {
   "cell_type": "code",
   "execution_count": 7,
   "metadata": {},
   "outputs": [],
   "source": [
    "from pyamaze import maze,COLOR,agent\n",
    "m=maze(10,10)\n",
    "m.CreateMaze(theme=COLOR.light)\n",
    "a=agent(m)\n",
    "m.run()"
   ]
  },
  {
   "cell_type": "code",
   "execution_count": 8,
   "metadata": {},
   "outputs": [],
   "source": [
    "from pyamaze import maze,COLOR,agent\n",
    "m=maze(5,5)\n",
    "m.CreateMaze()\n",
    "a=agent(m,shape='arrow',footprints=True)\n",
    "a.position=(5,4)\n",
    "a.position=(5,3)\n",
    "a.position=(5,2)\n",
    "m.run()"
   ]
  },
  {
   "cell_type": "code",
   "execution_count": 9,
   "metadata": {},
   "outputs": [
    {
     "name": "stdout",
     "output_type": "stream",
     "text": [
      "{(1, 1): {'E': 0, 'W': 0, 'N': 0, 'S': 1}, (2, 1): {'E': 0, 'W': 0, 'N': 1, 'S': 1}, (3, 1): {'E': 0, 'W': 0, 'N': 1, 'S': 1}, (4, 1): {'E': 0, 'W': 0, 'N': 1, 'S': 1}, (5, 1): {'E': 1, 'W': 0, 'N': 1, 'S': 0}, (1, 2): {'E': 1, 'W': 0, 'N': 0, 'S': 0}, (2, 2): {'E': 1, 'W': 0, 'N': 0, 'S': 1}, (3, 2): {'E': 0, 'W': 0, 'N': 1, 'S': 1}, (4, 2): {'E': 1, 'W': 0, 'N': 1, 'S': 0}, (5, 2): {'E': 1, 'W': 1, 'N': 0, 'S': 0}, (1, 3): {'E': 1, 'W': 1, 'N': 0, 'S': 1}, (2, 3): {'E': 0, 'W': 1, 'N': 1, 'S': 0}, (3, 3): {'E': 1, 'W': 0, 'N': 0, 'S': 0}, (4, 3): {'E': 0, 'W': 1, 'N': 0, 'S': 1}, (5, 3): {'E': 0, 'W': 1, 'N': 1, 'S': 0}, (1, 4): {'E': 1, 'W': 1, 'N': 0, 'S': 0}, (2, 4): {'E': 1, 'W': 0, 'N': 0, 'S': 1}, (3, 4): {'E': 0, 'W': 1, 'N': 1, 'S': 1}, (4, 4): {'E': 1, 'W': 0, 'N': 1, 'S': 0}, (5, 4): {'E': 1, 'W': 0, 'N': 0, 'S': 0}, (1, 5): {'E': 0, 'W': 1, 'N': 0, 'S': 1}, (2, 5): {'E': 0, 'W': 1, 'N': 1, 'S': 0}, (3, 5): {'E': 0, 'W': 0, 'N': 0, 'S': 1}, (4, 5): {'E': 0, 'W': 1, 'N': 1, 'S': 1}, (5, 5): {'E': 0, 'W': 1, 'N': 1, 'S': 0}}\n"
     ]
    }
   ],
   "source": [
    "print(m.maze_map)\n"
   ]
  },
  {
   "cell_type": "code",
   "execution_count": 10,
   "metadata": {},
   "outputs": [],
   "source": [
    "from pyamaze import maze,agent\n",
    "m=maze(20,20)\n",
    "m.CreateMaze(loopPercent=50)\n",
    "a=agent(m,filled=True,footprints=True)\n",
    "m.tracePath({a:m.path})\n",
    "m.run()"
   ]
  }
 ],
 "metadata": {
  "kernelspec": {
   "display_name": "Python 3",
   "language": "python",
   "name": "python3"
  },
  "language_info": {
   "codemirror_mode": {
    "name": "ipython",
    "version": 3
   },
   "file_extension": ".py",
   "mimetype": "text/x-python",
   "name": "python",
   "nbconvert_exporter": "python",
   "pygments_lexer": "ipython3",
   "version": "3.8.5"
  }
 },
 "nbformat": 4,
 "nbformat_minor": 4
}
